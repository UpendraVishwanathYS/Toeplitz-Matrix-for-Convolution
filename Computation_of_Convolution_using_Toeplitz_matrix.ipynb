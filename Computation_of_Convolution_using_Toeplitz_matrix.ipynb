{
  "nbformat": 4,
  "nbformat_minor": 0,
  "metadata": {
    "colab": {
      "name": "Computation of Convolution using Toeplitz matrix",
      "provenance": [],
      "authorship_tag": "ABX9TyMrLMoPVsbAmnO5wuxTj7y9",
      "include_colab_link": true
    },
    "kernelspec": {
      "name": "python3",
      "display_name": "Python 3"
    },
    "language_info": {
      "name": "python"
    }
  },
  "cells": [
    {
      "cell_type": "markdown",
      "metadata": {
        "id": "view-in-github",
        "colab_type": "text"
      },
      "source": [
        "<a href=\"https://colab.research.google.com/github/UpendraVishwanathYS/Toeplitz-Matrix-for-Convolution/blob/main/Computation_of_Convolution_using_Toeplitz_matrix.ipynb\" target=\"_parent\"><img src=\"https://colab.research.google.com/assets/colab-badge.svg\" alt=\"Open In Colab\"/></a>"
      ]
    },
    {
      "cell_type": "code",
      "metadata": {
        "colab": {
          "base_uri": "https://localhost:8080/"
        },
        "id": "djlVpJmJEFQD",
        "outputId": "3733e2bf-c5f3-4535-8be8-3a2873b9e9d1"
      },
      "source": [
        "# 1-D convolution using Toeplitz matrix\n",
        "import numpy as np\n",
        "from scipy import linalg as LA\n",
        "x = np.array([1,2,3])\n",
        "h = np.array([1,1])\n",
        "zeros = np.zeros((1,len(x)-1))\n",
        "p = np.block([h[1],zeros])\n",
        "h = np.block([h,zeros])\n",
        "\n",
        "t = LA.toeplitz(h,p)\n",
        "y = t.dot(x)\n",
        "print(y)\n"
      ],
      "execution_count": null,
      "outputs": [
        {
          "output_type": "stream",
          "name": "stdout",
          "text": [
            "[1. 3. 5. 3.]\n"
          ]
        }
      ]
    },
    {
      "cell_type": "code",
      "metadata": {
        "colab": {
          "base_uri": "https://localhost:8080/"
        },
        "id": "jphtL2QeDWn3",
        "outputId": "eedd421a-0651-4da2-b7f5-e347a2c601ac"
      },
      "source": [
        "# 2D convolution using toeplitz matrix\n",
        "x = np.matrix([[1,2],[3,4]])\n",
        "h = np.matrix([[5,6],[7,8]])\n",
        "rx,cx = x.shape\n",
        "rh,ch = h.shape\n",
        "\n",
        "\n",
        "def toeplitz_blocks(x,h):\n",
        "  rx,cx = x.shape\n",
        "  rh,ch = h.shape\n",
        "  zeros = np.zeros((1,ch))\n",
        "  p = np.block([x,np.zeros((1,ch-1))])\n",
        "  t = LA.toeplitz(p,zeros)\n",
        "  return t\n",
        "\n",
        "for j in range(0,x.shape[0]):\n",
        "  u = x[j]\n",
        "  t = toeplitz_blocks(u,h)\n",
        "  if j==0:\n",
        "    inputs = (t,)\n",
        "    b = np.block([t])\n",
        "  else: \n",
        "    b = np.block([b,t])\n",
        "    t = (t,)\n",
        "    inputs += t\n",
        "\n",
        "# b = [H0,H1,H2]\n",
        "\n",
        "nh = len(inputs)\n",
        "nrows = 2*nh - 1\n",
        "m, n = inputs[0].shape\n",
        "\n",
        "T = np.zeros((nrows, m, nh, n), dtype=H1.dtype)\n",
        "for i, H in enumerate(inputs):\n",
        "    for j in range(nh):\n",
        "        T[i + j, :, j, :] = H\n",
        "\n",
        "T.shape = (nrows*m, nh*n)\n",
        "\n",
        "\n",
        "h.shape = (h.size,1)\n",
        "y = T.dot(h)\n",
        "y.shape = (rx+rh-1,cx+ch-1)\n",
        "print(y)\n",
        "\n",
        "\n"
      ],
      "execution_count": null,
      "outputs": [
        {
          "output_type": "stream",
          "name": "stdout",
          "text": [
            "[[ 5 16 12]\n",
            " [22 60 40]\n",
            " [21 52 32]]\n"
          ]
        }
      ]
    }
  ]
}